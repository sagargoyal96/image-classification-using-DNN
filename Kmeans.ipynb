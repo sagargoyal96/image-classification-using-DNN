{
 "cells": [
  {
   "cell_type": "code",
   "execution_count": 35,
   "metadata": {},
   "outputs": [
    {
     "name": "stdout",
     "output_type": "stream",
     "text": [
      "hellojoil\n"
     ]
    }
   ],
   "source": [
    "import scipy\n",
    "import sklearn\n",
    "import sklearn.cluster\n",
    "import pickle\n",
    "from enum import Enum\n",
    "\n",
    "from sklearn.cluster import KMeans\n",
    "import numpy as np\n",
    "\n",
    "class Objects(Enum):\n",
    "    banana=1\n",
    "    bulldozer=2\n",
    "    chair=3\n",
    "    eyeglasses=4\n",
    "    flashlight=5\n",
    "    foot=6\n",
    "    hand=7\n",
    "    harp=8\n",
    "    hat=9\n",
    "    keyboard=10\n",
    "    laptop=11\n",
    "    nose=12\n",
    "    parrot=13\n",
    "    penguin=14\n",
    "    pig=15\n",
    "    skyscraper=16\n",
    "    snowman=17\n",
    "    spider=18\n",
    "    trombone=19\n",
    "    violin=20\n",
    "\n",
    "def create_train():\n",
    "    lengths=[]\n",
    "    filename=\"train/\"+Objects(1).name+ \".npy\"\n",
    "    obj_np=np.load(filename)\n",
    "    obj_np=np.array(obj_np/255)\n",
    "    lengths.append(len(obj_np))\n",
    "    for i in range(1,20):\n",
    "        filename=\"train/\"+Objects(i+1).name+ \".npy\"\n",
    "        temp=np.load(filename)\n",
    "        temp=np.array(temp/255)\n",
    "        lengths.append(len(temp))\n",
    "        obj_np=np.vstack((obj_np,temp))\n",
    "\n",
    "\n",
    "#     print(lengths)\n",
    "    return obj_np, lengths\n",
    "        \n",
    "X_train, lengths=create_train()\n",
    "        \n",
    "# print((banana))\n",
    "print(\"hello\"+\"joil\")"
   ]
  },
  {
   "cell_type": "code",
   "execution_count": 89,
   "metadata": {},
   "outputs": [],
   "source": [
    "kmeans = KMeans(n_init=10, n_clusters=20, max_iter=50).fit(X_train)"
   ]
  },
  {
   "cell_type": "code",
   "execution_count": 90,
   "metadata": {},
   "outputs": [
    {
     "name": "stdout",
     "output_type": "stream",
     "text": [
      "[14  7 12 ...  7 17  3]\n"
     ]
    }
   ],
   "source": [
    "def gen_kmeans_matrix():\n",
    "    global kmeans\n",
    "    clustered_labels=kmeans.labels_\n",
    "    print(clustered_labels)\n",
    "    conversion_matrix= np.zeros((20,20))\n",
    "    pref_sum=[]\n",
    "    pref_sum.append(0)\n",
    "\n",
    "    for i in range(1,len(lengths)):\n",
    "        pref_sum.append(pref_sum[i-1]+lengths[i-1])\n",
    "    pref_sum=np.array(pref_sum)\n",
    "\n",
    "    for i in range(len(lengths)):\n",
    "        for j in range(lengths[i]):\n",
    "            conversion_matrix[clustered_labels[pref_sum[i]+j]][i]+=1\n",
    "\n",
    "    # cm calculates the relation between the choices made and the actual answer\n",
    "\n",
    "    max_values=[]\n",
    "    for i in range(len(lengths)):\n",
    "        max_values.append(np.argmax(conversion_matrix[i]))\n",
    "    max_values=np.array(max_values)\n",
    "    return conversion_matrix, max_values\n",
    "            \n",
    "conversion_matrix, max_values=gen_kmeans_matrix()\n",
    "    \n",
    "# print(conversion_matrix)\n",
    "# this assigns the correct values to the clusters and stores them in the max_values array\n"
   ]
  },
  {
   "cell_type": "code",
   "execution_count": 91,
   "metadata": {},
   "outputs": [
    {
     "name": "stdout",
     "output_type": "stream",
     "text": [
      "0.35256\n"
     ]
    }
   ],
   "source": [
    "def get_accuracy():\n",
    "    correct=0\n",
    "    total=0\n",
    "    for i in range(20):\n",
    "        for j in range(20):\n",
    "            total+=conversion_matrix[i][j]\n",
    "        \n",
    "        correct+=conversion_matrix[i][max_values[i]]\n",
    "\n",
    "    accuracy=correct/total\n",
    "    print(accuracy)\n",
    "\n",
    "get_accuracy()\n",
    "        "
   ]
  },
  {
   "cell_type": "code",
   "execution_count": 92,
   "metadata": {},
   "outputs": [
    {
     "name": "stdout",
     "output_type": "stream",
     "text": [
      "[18 11 18 ... 13  8  8]\n"
     ]
    }
   ],
   "source": [
    "def create_test():\n",
    "    filename=\"test/test.npy\"\n",
    "    obj_np=np.load(filename)\n",
    "    obj_np=np.array(obj_np/255)\n",
    "    return obj_np\n",
    " \n",
    "X_test=create_test()\n",
    "\n",
    "test_predicted=kmeans.predict(X_test)\n",
    "print(test_predicted)"
   ]
  },
  {
   "cell_type": "code",
   "execution_count": 93,
   "metadata": {},
   "outputs": [],
   "source": [
    "import csv\n",
    "def csv_writer(test_answers):\n",
    "    with open('answers.csv', 'w') as csvfile:\n",
    "        mywriter = csv.writer(csvfile)\n",
    "        mywriter.writerow([\"ID\", \"CATEGORY\"])\n",
    "        for i in range(len(test_answers)):\n",
    "            mywriter.writerow([i, Objects(test_answers[i]+1).name])\n",
    "\n",
    "# csv_writer(test_predicted)\n",
    "    "
   ]
  },
  {
   "cell_type": "code",
   "execution_count": 94,
   "metadata": {},
   "outputs": [],
   "source": [
    "def converter(dumb_predict):\n",
    "    global max_values\n",
    "    final_answer=[]\n",
    "    for i in dumb_predict:\n",
    "        final_answer.append(max_values[i])\n",
    "    return np.array(final_answer)\n",
    "\n",
    "csv_writer(converter(test_predicted))"
   ]
  },
  {
   "cell_type": "code",
   "execution_count": null,
   "metadata": {},
   "outputs": [],
   "source": []
  }
 ],
 "metadata": {
  "kernelspec": {
   "display_name": "Python 3",
   "language": "python",
   "name": "python3"
  },
  "language_info": {
   "codemirror_mode": {
    "name": "ipython",
    "version": 3
   },
   "file_extension": ".py",
   "mimetype": "text/x-python",
   "name": "python",
   "nbconvert_exporter": "python",
   "pygments_lexer": "ipython3",
   "version": "3.6.4"
  }
 },
 "nbformat": 4,
 "nbformat_minor": 2
}
